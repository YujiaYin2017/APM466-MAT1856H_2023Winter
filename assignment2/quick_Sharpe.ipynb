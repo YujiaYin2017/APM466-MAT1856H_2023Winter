{
  "nbformat": 4,
  "nbformat_minor": 0,
  "metadata": {
    "colab": {
      "provenance": []
    },
    "kernelspec": {
      "name": "python3",
      "display_name": "Python 3"
    },
    "language_info": {
      "name": "python"
    }
  },
  "cells": [
    {
      "cell_type": "code",
      "source": [
        "import math"
      ],
      "metadata": {
        "id": "D3rnRhfkvTYL"
      },
      "execution_count": 1,
      "outputs": []
    },
    {
      "cell_type": "code",
      "source": [
        "def Sharpe_ratio(rate,p):\n",
        "  p=p/100\n",
        "  E_rate=rate*(1-p)\n",
        "  Var=(rate**2)*(1-p)-E_rate**2\n",
        "  std=math.sqrt(Var)\n",
        "\n",
        "  result=E_rate/std\n",
        "\n",
        "  return result\n"
      ],
      "metadata": {
        "id": "P1zKK84uuyK-"
      },
      "execution_count": 2,
      "outputs": []
    },
    {
      "cell_type": "code",
      "source": [
        "Sharpe_ratio(3,25)"
      ],
      "metadata": {
        "colab": {
          "base_uri": "https://localhost:8080/"
        },
        "id": "Wcvzo7MGvchV",
        "outputId": "da4ec0fb-f37b-42a9-cd50-1431b482bf17"
      },
      "execution_count": 9,
      "outputs": [
        {
          "output_type": "execute_result",
          "data": {
            "text/plain": [
              "1.7320508075688772"
            ]
          },
          "metadata": {},
          "execution_count": 9
        }
      ]
    },
    {
      "cell_type": "code",
      "source": [
        "Sharpe_ratio(9,44.62)"
      ],
      "metadata": {
        "colab": {
          "base_uri": "https://localhost:8080/"
        },
        "id": "ns8sWrDnvlvr",
        "outputId": "69ce675b-4fde-4071-f225-df28d3888460"
      },
      "execution_count": 4,
      "outputs": [
        {
          "output_type": "execute_result",
          "data": {
            "text/plain": [
              "1.1140679815448256"
            ]
          },
          "metadata": {},
          "execution_count": 4
        }
      ]
    },
    {
      "cell_type": "code",
      "source": [
        "Sharpe_ratio(9,30.66)"
      ],
      "metadata": {
        "colab": {
          "base_uri": "https://localhost:8080/"
        },
        "id": "CoHGXwulvqkx",
        "outputId": "5fb09097-77a8-40f1-d201-a211f4c5a538"
      },
      "execution_count": 5,
      "outputs": [
        {
          "output_type": "execute_result",
          "data": {
            "text/plain": [
              "1.5038545820804479"
            ]
          },
          "metadata": {},
          "execution_count": 5
        }
      ]
    },
    {
      "cell_type": "code",
      "source": [
        "Sharpe_ratio(9,13.33)"
      ],
      "metadata": {
        "colab": {
          "base_uri": "https://localhost:8080/"
        },
        "id": "KIIQ4D4jvuFr",
        "outputId": "51f0f215-c0c0-46f8-f552-b348d5270f71"
      },
      "execution_count": 6,
      "outputs": [
        {
          "output_type": "execute_result",
          "data": {
            "text/plain": [
              "2.5498775399746574"
            ]
          },
          "metadata": {},
          "execution_count": 6
        }
      ]
    },
    {
      "cell_type": "code",
      "source": [],
      "metadata": {
        "id": "Wq1hBHZIvzpy"
      },
      "execution_count": null,
      "outputs": []
    }
  ]
}