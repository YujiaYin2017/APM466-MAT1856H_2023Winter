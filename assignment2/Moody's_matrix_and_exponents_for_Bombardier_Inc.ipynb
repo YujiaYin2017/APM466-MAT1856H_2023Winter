{
  "nbformat": 4,
  "nbformat_minor": 0,
  "metadata": {
    "colab": {
      "provenance": []
    },
    "kernelspec": {
      "name": "python3",
      "display_name": "Python 3"
    },
    "language_info": {
      "name": "python"
    }
  },
  "cells": [
    {
      "cell_type": "code",
      "execution_count": null,
      "metadata": {
        "id": "OgOqae-9uWvo"
      },
      "outputs": [],
      "source": [
        "import numpy as np\n",
        "from scipy.linalg import fractional_matrix_power\n"
      ]
    },
    {
      "cell_type": "code",
      "source": [
        "Aaa=[1,0,0,0,0,0,0,0,0,0,0,0,0,0,0,0,0,0,0,0,0,0]"
      ],
      "metadata": {
        "id": "947MDg7qxgX_"
      },
      "execution_count": null,
      "outputs": []
    },
    {
      "cell_type": "code",
      "source": [
        "len(Aaa)"
      ],
      "metadata": {
        "colab": {
          "base_uri": "https://localhost:8080/"
        },
        "id": "z7N7trAA4lxU",
        "outputId": "40fbf2b4-e429-4343-fba4-306590dd5d15"
      },
      "execution_count": null,
      "outputs": [
        {
          "output_type": "execute_result",
          "data": {
            "text/plain": [
              "22"
            ]
          },
          "metadata": {},
          "execution_count": 55
        }
      ]
    },
    {
      "cell_type": "code",
      "source": [
        "Aa1=[0, 0.79,0.21,0,0,0,0,0,0,0,0,0,0,0,0,0,0,0,0,0,0,0]"
      ],
      "metadata": {
        "id": "BlKVugAtxlEz"
      },
      "execution_count": null,
      "outputs": []
    },
    {
      "cell_type": "code",
      "source": [
        "len(Aa1)"
      ],
      "metadata": {
        "colab": {
          "base_uri": "https://localhost:8080/"
        },
        "id": "CIEOR8Uc4jpV",
        "outputId": "4b501f58-3958-4d7d-ed66-f27d2b5c8615"
      },
      "execution_count": null,
      "outputs": [
        {
          "output_type": "execute_result",
          "data": {
            "text/plain": [
              "22"
            ]
          },
          "metadata": {},
          "execution_count": 54
        }
      ]
    },
    {
      "cell_type": "code",
      "source": [
        "Aa2=[0,0,0.91,0.01,0.02,0,0,0,0,0,0,0,0,0,0,0,0,0,0,0,0.06,0]"
      ],
      "metadata": {
        "id": "FYydGELkxooD"
      },
      "execution_count": null,
      "outputs": []
    },
    {
      "cell_type": "code",
      "source": [
        "len(Aa2)"
      ],
      "metadata": {
        "colab": {
          "base_uri": "https://localhost:8080/"
        },
        "id": "riQSg0IR4XKz",
        "outputId": "2fa2e9d2-416d-4836-a914-123fbf9c3181"
      },
      "execution_count": null,
      "outputs": [
        {
          "output_type": "execute_result",
          "data": {
            "text/plain": [
              "22"
            ]
          },
          "metadata": {},
          "execution_count": 51
        }
      ]
    },
    {
      "cell_type": "code",
      "source": [
        "Aa3=[0,0,0.01,0.64,0.3,0,0,0,0,0,0,0,0,0,0,0,0,0,0,0,0.06,0]"
      ],
      "metadata": {
        "id": "dNiNR1I6xs9r"
      },
      "execution_count": null,
      "outputs": []
    },
    {
      "cell_type": "code",
      "source": [
        "len(Aa3)"
      ],
      "metadata": {
        "colab": {
          "base_uri": "https://localhost:8080/"
        },
        "id": "nQ_pLcCb4VFt",
        "outputId": "e0597abf-82fa-4caa-a3af-66724c0fb914"
      },
      "execution_count": null,
      "outputs": [
        {
          "output_type": "execute_result",
          "data": {
            "text/plain": [
              "22"
            ]
          },
          "metadata": {},
          "execution_count": 53
        }
      ]
    },
    {
      "cell_type": "code",
      "source": [
        "A1=[0,0,0,0.02,0.84,0.08,0.01,0.01,0,0,0,0,0,0,0,0,0,0,0,0,0.04,0]"
      ],
      "metadata": {
        "id": "I6LwQBdZwDwG"
      },
      "execution_count": null,
      "outputs": []
    },
    {
      "cell_type": "code",
      "source": [
        "len(A1)"
      ],
      "metadata": {
        "colab": {
          "base_uri": "https://localhost:8080/"
        },
        "id": "ruC1PYCS4TfI",
        "outputId": "e0fac2cc-9c28-4c92-8270-cbb8b46a8c02"
      },
      "execution_count": null,
      "outputs": [
        {
          "output_type": "execute_result",
          "data": {
            "text/plain": [
              "22"
            ]
          },
          "metadata": {},
          "execution_count": 49
        }
      ]
    },
    {
      "cell_type": "code",
      "source": [
        "A2=[0,0,0,0,0.17,0.74,0.03,0.01,0,0,0,0.01,0,0,0,0,0,0,0,0,0.03,0]"
      ],
      "metadata": {
        "id": "pMY4EBegx3xW"
      },
      "execution_count": null,
      "outputs": []
    },
    {
      "cell_type": "code",
      "source": [
        "len(A2)"
      ],
      "metadata": {
        "colab": {
          "base_uri": "https://localhost:8080/"
        },
        "id": "0hGUDe2a4RUo",
        "outputId": "509c74e1-9486-490b-e8cd-e82b3eb5eee5"
      },
      "execution_count": null,
      "outputs": [
        {
          "output_type": "execute_result",
          "data": {
            "text/plain": [
              "22"
            ]
          },
          "metadata": {},
          "execution_count": 48
        }
      ]
    },
    {
      "cell_type": "code",
      "source": [
        "A3=[0,0,0,0,0,0.04,0.8,0.06,0.02,0,0,0,0,0,0,0,0,0,0,0,0.08,0]"
      ],
      "metadata": {
        "id": "JNEkc6ZDySfN"
      },
      "execution_count": null,
      "outputs": []
    },
    {
      "cell_type": "code",
      "source": [
        "len(A3)"
      ],
      "metadata": {
        "colab": {
          "base_uri": "https://localhost:8080/"
        },
        "id": "ySyh_C-y4B_A",
        "outputId": "91167b11-5281-4025-b243-9cefd0957170"
      },
      "execution_count": null,
      "outputs": [
        {
          "output_type": "execute_result",
          "data": {
            "text/plain": [
              "22"
            ]
          },
          "metadata": {},
          "execution_count": 47
        }
      ]
    },
    {
      "cell_type": "code",
      "source": [
        "Baa1=[0,0,0,0,0,0,0.05,0.85,6,0,0,0,0,0,0,0,0,0,0,0,0.04,0]"
      ],
      "metadata": {
        "id": "-XIJTWfqyjWM"
      },
      "execution_count": null,
      "outputs": []
    },
    {
      "cell_type": "code",
      "source": [
        "len(Baa1)"
      ],
      "metadata": {
        "colab": {
          "base_uri": "https://localhost:8080/"
        },
        "id": "DjDSKuw43_u_",
        "outputId": "350e3523-ba4f-4741-84c8-ce1eab3947e3"
      },
      "execution_count": null,
      "outputs": [
        {
          "output_type": "execute_result",
          "data": {
            "text/plain": [
              "22"
            ]
          },
          "metadata": {},
          "execution_count": 44
        }
      ]
    },
    {
      "cell_type": "code",
      "source": [
        "Baa2=[0,0,0,0,0,0,0,0.08,0.82,0.05,0,0,0,0,0,0,0,0,0,0,0.05,0]"
      ],
      "metadata": {
        "id": "ASsHim44yvxW"
      },
      "execution_count": null,
      "outputs": []
    },
    {
      "cell_type": "code",
      "source": [
        "len(Baa2)"
      ],
      "metadata": {
        "colab": {
          "base_uri": "https://localhost:8080/"
        },
        "id": "6RQ04cFm3-PY",
        "outputId": "aaeefab2-b9df-474e-f7da-66ee4be22ea7"
      },
      "execution_count": null,
      "outputs": [
        {
          "output_type": "execute_result",
          "data": {
            "text/plain": [
              "22"
            ]
          },
          "metadata": {},
          "execution_count": 43
        }
      ]
    },
    {
      "cell_type": "code",
      "source": [
        "Baa3=[0,0,0,0,0,0,0,0,0.09,0.8,0.04,0.01,0,0,0,0,0.01,0,0,0,0.06,0]"
      ],
      "metadata": {
        "id": "EUZYQokPy9bS"
      },
      "execution_count": null,
      "outputs": []
    },
    {
      "cell_type": "code",
      "source": [
        "len(Baa3)"
      ],
      "metadata": {
        "colab": {
          "base_uri": "https://localhost:8080/"
        },
        "id": "ESeW2Z5a38CE",
        "outputId": "f54f7f66-8f4a-498a-93e6-216ef2a8bb4e"
      },
      "execution_count": null,
      "outputs": [
        {
          "output_type": "execute_result",
          "data": {
            "text/plain": [
              "22"
            ]
          },
          "metadata": {},
          "execution_count": 42
        }
      ]
    },
    {
      "cell_type": "code",
      "source": [
        "Ba1=[0,0,0,0,0,0,0,0,0.01,0.14,0.72,0.04,0.01,0,0,0,0,0,0,0,0.07,0]"
      ],
      "metadata": {
        "id": "zIZ9_7gVzTEe"
      },
      "execution_count": null,
      "outputs": []
    },
    {
      "cell_type": "code",
      "source": [
        "len(Ba1)"
      ],
      "metadata": {
        "colab": {
          "base_uri": "https://localhost:8080/"
        },
        "id": "lBuXFaVF36Rd",
        "outputId": "65d8ce10-c08d-421a-f623-7cb45a4ffb48"
      },
      "execution_count": null,
      "outputs": [
        {
          "output_type": "execute_result",
          "data": {
            "text/plain": [
              "22"
            ]
          },
          "metadata": {},
          "execution_count": 41
        }
      ]
    },
    {
      "cell_type": "code",
      "source": [
        "Ba2=[0,0,0,0,0,0,0,0,0,0.03,0.11,0.72,0.03,0.02,0.02,0,0,0,0,0,0.07,0]"
      ],
      "metadata": {
        "id": "ggPOL71xz64I"
      },
      "execution_count": null,
      "outputs": []
    },
    {
      "cell_type": "code",
      "source": [
        "len(Ba2)"
      ],
      "metadata": {
        "colab": {
          "base_uri": "https://localhost:8080/"
        },
        "id": "uOkBgudm31MF",
        "outputId": "cbffbe5c-6578-4130-82d1-95c600ff931e"
      },
      "execution_count": null,
      "outputs": [
        {
          "output_type": "execute_result",
          "data": {
            "text/plain": [
              "22"
            ]
          },
          "metadata": {},
          "execution_count": 40
        }
      ]
    },
    {
      "cell_type": "code",
      "source": [
        "Ba3=[0,0,0,0,0,0,0,0,0,0.01,0.04,0.07,0.71,0.06,0.01,0.01,0.01,0,0,0,0.07,0]"
      ],
      "metadata": {
        "id": "rNvNka1g0ST3"
      },
      "execution_count": null,
      "outputs": []
    },
    {
      "cell_type": "code",
      "source": [
        "len(Ba3)"
      ],
      "metadata": {
        "colab": {
          "base_uri": "https://localhost:8080/"
        },
        "id": "Py6uttdf3zC4",
        "outputId": "7bcb9c76-3abb-4f18-aad4-53783a9e412c"
      },
      "execution_count": null,
      "outputs": [
        {
          "output_type": "execute_result",
          "data": {
            "text/plain": [
              "22"
            ]
          },
          "metadata": {},
          "execution_count": 39
        }
      ]
    },
    {
      "cell_type": "code",
      "source": [
        "len(Ba3)"
      ],
      "metadata": {
        "colab": {
          "base_uri": "https://localhost:8080/"
        },
        "id": "oRzemEe83vXU",
        "outputId": "0c4fd3b0-35f8-483d-9a2f-808a4d9d9276"
      },
      "execution_count": null,
      "outputs": [
        {
          "output_type": "execute_result",
          "data": {
            "text/plain": [
              "22"
            ]
          },
          "metadata": {},
          "execution_count": 38
        }
      ]
    },
    {
      "cell_type": "code",
      "source": [
        "B1=[0,0,0,0,0,0,0,0,0,0,0,0.02,0.09,0.67,0.04,0.03,0,0,0.01,0,0.12,0]"
      ],
      "metadata": {
        "id": "LB8N6wb-1DWF"
      },
      "execution_count": null,
      "outputs": []
    },
    {
      "cell_type": "code",
      "source": [
        "len(B1)"
      ],
      "metadata": {
        "colab": {
          "base_uri": "https://localhost:8080/"
        },
        "id": "G8OmqwNS3tjQ",
        "outputId": "3db83dfe-12eb-4979-8efb-210ee92b3fab"
      },
      "execution_count": null,
      "outputs": [
        {
          "output_type": "execute_result",
          "data": {
            "text/plain": [
              "22"
            ]
          },
          "metadata": {},
          "execution_count": 37
        }
      ]
    },
    {
      "cell_type": "code",
      "source": [
        "B2=[0,0,0,0,0,0,0,0,0,0,0,0.01,0.02,0.07,0.59,0.08,0.03,0.03,0,0,0.15,0]"
      ],
      "metadata": {
        "id": "LTFyzIZ01Vy3"
      },
      "execution_count": null,
      "outputs": []
    },
    {
      "cell_type": "code",
      "source": [
        "len(B2)"
      ],
      "metadata": {
        "colab": {
          "base_uri": "https://localhost:8080/"
        },
        "id": "ABcnnwEO3r2U",
        "outputId": "d5d5928b-8fde-4624-cc8e-b628e0fd7dc7"
      },
      "execution_count": null,
      "outputs": [
        {
          "output_type": "execute_result",
          "data": {
            "text/plain": [
              "22"
            ]
          },
          "metadata": {},
          "execution_count": 36
        }
      ]
    },
    {
      "cell_type": "code",
      "source": [
        "B3=[0,0,0,0,0,0,0,0,0,0,0,0,0.01,0.02,0.09,0.62,0.09,0.03,0,0,0.14,0.01]"
      ],
      "metadata": {
        "id": "uNSH_pcK1rcV"
      },
      "execution_count": null,
      "outputs": []
    },
    {
      "cell_type": "code",
      "source": [
        "len(B3)"
      ],
      "metadata": {
        "colab": {
          "base_uri": "https://localhost:8080/"
        },
        "id": "_gcg0Bag3qL3",
        "outputId": "4db54abb-fbbd-4f92-df23-a99b884a4a2e"
      },
      "execution_count": null,
      "outputs": [
        {
          "output_type": "execute_result",
          "data": {
            "text/plain": [
              "22"
            ]
          },
          "metadata": {},
          "execution_count": 35
        }
      ]
    },
    {
      "cell_type": "code",
      "source": [
        "Caa1=[0,0,0,0,0,0,0,0,0,0,0,0,0,0,0.01,0.06,0.62,0.11,0.02,0.01,0.15,0.02]"
      ],
      "metadata": {
        "id": "_laypLaW2B7c"
      },
      "execution_count": null,
      "outputs": []
    },
    {
      "cell_type": "code",
      "source": [
        "len(Caa1)"
      ],
      "metadata": {
        "colab": {
          "base_uri": "https://localhost:8080/"
        },
        "id": "E0PRwSf-3ohd",
        "outputId": "e29c96d3-0cf4-4539-e552-8e4ce0320c19"
      },
      "execution_count": null,
      "outputs": [
        {
          "output_type": "execute_result",
          "data": {
            "text/plain": [
              "22"
            ]
          },
          "metadata": {},
          "execution_count": 34
        }
      ]
    },
    {
      "cell_type": "code",
      "source": [
        "Caa2=[0,0,0,0,0,0,0,0,0,0,0,0,0,0,0,0.02,0.07,0.57,0.09,0.03,0.19,0.03]"
      ],
      "metadata": {
        "id": "oq728o4B2dZu"
      },
      "execution_count": null,
      "outputs": []
    },
    {
      "cell_type": "code",
      "source": [
        "len(Caa2)"
      ],
      "metadata": {
        "colab": {
          "base_uri": "https://localhost:8080/"
        },
        "id": "IUiBUFoK3mYH",
        "outputId": "5f945511-0888-456b-b435-107c9984db13"
      },
      "execution_count": null,
      "outputs": [
        {
          "output_type": "execute_result",
          "data": {
            "text/plain": [
              "22"
            ]
          },
          "metadata": {},
          "execution_count": 33
        }
      ]
    },
    {
      "cell_type": "code",
      "source": [
        "Caa3=[0,0,0,0,0,0,0,0,0,0,0,0,0,0,0,0,0.03,0.06,0.51,0.12,0.13,0.14]"
      ],
      "metadata": {
        "id": "WE71bXMY2tfJ"
      },
      "execution_count": null,
      "outputs": []
    },
    {
      "cell_type": "code",
      "source": [
        "len(Caa3)"
      ],
      "metadata": {
        "colab": {
          "base_uri": "https://localhost:8080/"
        },
        "id": "ZBEM9kBx3kir",
        "outputId": "34cb2590-04da-47be-9a15-4651e06add06"
      },
      "execution_count": null,
      "outputs": [
        {
          "output_type": "execute_result",
          "data": {
            "text/plain": [
              "22"
            ]
          },
          "metadata": {},
          "execution_count": 32
        }
      ]
    },
    {
      "cell_type": "code",
      "source": [
        "CaC=[0,0,0,0,0,0,0,0,0,0,0,0,0,0,0,0,0.03,0.02,0.03,0.41,0.16,0.35]"
      ],
      "metadata": {
        "id": "_aRhzrzQ2_Yc"
      },
      "execution_count": null,
      "outputs": []
    },
    {
      "cell_type": "code",
      "source": [
        "len(CaC)"
      ],
      "metadata": {
        "colab": {
          "base_uri": "https://localhost:8080/"
        },
        "id": "89PRm4AS3i1O",
        "outputId": "8ba63c33-8039-4bc9-a5a6-1d45eae4db72"
      },
      "execution_count": null,
      "outputs": [
        {
          "output_type": "execute_result",
          "data": {
            "text/plain": [
              "22"
            ]
          },
          "metadata": {},
          "execution_count": 31
        }
      ]
    },
    {
      "cell_type": "code",
      "source": [
        "WR=[0 for _ in range(22)]"
      ],
      "metadata": {
        "id": "TvqNtsly3OLE"
      },
      "execution_count": null,
      "outputs": []
    },
    {
      "cell_type": "code",
      "source": [
        "WR[-2]=1"
      ],
      "metadata": {
        "id": "MPoVjRu-3T26"
      },
      "execution_count": null,
      "outputs": []
    },
    {
      "cell_type": "code",
      "source": [
        "DEF=[0 for _ in range(22)]"
      ],
      "metadata": {
        "id": "RKdxSuOS3YLX"
      },
      "execution_count": null,
      "outputs": []
    },
    {
      "cell_type": "code",
      "source": [
        "DEF[-1]=1"
      ],
      "metadata": {
        "id": "GAoTndM73bkE"
      },
      "execution_count": null,
      "outputs": []
    },
    {
      "cell_type": "code",
      "source": [
        "M=[Aaa,Aa1,Aa2,Aa3,A1,A2,A3,Baa1,Baa2,Baa3,Ba1,Ba2,Ba3,B1,B2,B3,Caa1,Caa2,Caa3,CaC,WR,DEF]"
      ],
      "metadata": {
        "id": "qDyi6hIa4pTx"
      },
      "execution_count": null,
      "outputs": []
    },
    {
      "cell_type": "code",
      "source": [
        "np_M=np.array(M)"
      ],
      "metadata": {
        "id": "sg0A2SX45V53"
      },
      "execution_count": null,
      "outputs": []
    },
    {
      "cell_type": "code",
      "source": [
        "np_M2=fractional_matrix_power(np_M,2)"
      ],
      "metadata": {
        "id": "PXLH2H-N5eQV"
      },
      "execution_count": null,
      "outputs": []
    },
    {
      "cell_type": "code",
      "source": [
        "np_M3=fractional_matrix_power(np_M,3)"
      ],
      "metadata": {
        "id": "YHedk3nk5tuW"
      },
      "execution_count": null,
      "outputs": []
    },
    {
      "cell_type": "code",
      "source": [
        "np_M4=fractional_matrix_power(np_M,4)"
      ],
      "metadata": {
        "id": "ILvPgE915jFU"
      },
      "execution_count": null,
      "outputs": []
    },
    {
      "cell_type": "code",
      "source": [
        "np_M5=fractional_matrix_power(np_M,5)"
      ],
      "metadata": {
        "id": "rTq7gOkO50dE"
      },
      "execution_count": null,
      "outputs": []
    },
    {
      "cell_type": "code",
      "source": [
        "np_M[-7]"
      ],
      "metadata": {
        "colab": {
          "base_uri": "https://localhost:8080/"
        },
        "id": "hHY1JZQQ53FF",
        "outputId": "34b636e9-c4a9-4562-ac39-88c35611ac4b"
      },
      "execution_count": null,
      "outputs": [
        {
          "output_type": "execute_result",
          "data": {
            "text/plain": [
              "array([0.  , 0.  , 0.  , 0.  , 0.  , 0.  , 0.  , 0.  , 0.  , 0.  , 0.  ,\n",
              "       0.  , 0.01, 0.02, 0.09, 0.62, 0.09, 0.03, 0.  , 0.  , 0.14, 0.01])"
            ]
          },
          "metadata": {},
          "execution_count": 64
        }
      ]
    },
    {
      "cell_type": "code",
      "source": [
        "np_M2[-7]"
      ],
      "metadata": {
        "colab": {
          "base_uri": "https://localhost:8080/"
        },
        "id": "cY0sZx206hBE",
        "outputId": "99a417cd-7b53-4f83-d869-d339bcb8c51d"
      },
      "execution_count": null,
      "outputs": [
        {
          "output_type": "execute_result",
          "data": {
            "text/plain": [
              "array([0.000e+00, 0.000e+00, 0.000e+00, 0.000e+00, 0.000e+00, 0.000e+00,\n",
              "       0.000e+00, 0.000e+00, 0.000e+00, 1.000e-04, 4.000e-04, 2.000e-03,\n",
              "       1.690e-02, 3.270e-02, 1.107e-01, 3.983e-01, 1.165e-01, 4.830e-02,\n",
              "       4.700e-03, 1.800e-03, 2.626e-01, 1.890e-02])"
            ]
          },
          "metadata": {},
          "execution_count": 69
        }
      ]
    },
    {
      "cell_type": "code",
      "source": [
        "np_M3[-7]"
      ],
      "metadata": {
        "colab": {
          "base_uri": "https://localhost:8080/"
        },
        "id": "7f4XKmI962Zl",
        "outputId": "151ed6bf-e7f3-48e2-af36-a3a6b0dcfc0b"
      },
      "execution_count": null,
      "outputs": [
        {
          "output_type": "execute_result",
          "data": {
            "text/plain": [
              "array([0.00000e+00, 0.00000e+00, 0.00000e+00, 0.00000e+00, 0.00000e+00,\n",
              "       0.00000e+00, 0.00000e+00, 0.00000e+00, 1.30000e-05, 3.65000e-04,\n",
              "       1.18800e-03, 4.40100e-03, 2.12030e-02, 3.86780e-02, 1.03842e-01,\n",
              "       2.64908e-01, 1.15144e-01, 5.59340e-02, 9.45500e-03, 3.91600e-03,\n",
              "       3.67799e-01, 2.79500e-02])"
            ]
          },
          "metadata": {},
          "execution_count": 70
        }
      ]
    },
    {
      "cell_type": "code",
      "source": [
        "np_M4[-7]"
      ],
      "metadata": {
        "colab": {
          "base_uri": "https://localhost:8080/"
        },
        "id": "PVoctCR167TJ",
        "outputId": "b69bffd3-4a7b-4324-9567-d77ff007d385"
      },
      "execution_count": null,
      "outputs": [
        {
          "output_type": "execute_result",
          "data": {
            "text/plain": [
              "array([0.0000000e+00, 0.0000000e+00, 0.0000000e+00, 0.0000000e+00,\n",
              "       0.0000000e+00, 0.0000000e+00, 0.0000000e+00, 1.0400000e-06,\n",
              "       5.5390000e-05, 8.0303000e-04, 2.2021900e-03, 6.5160800e-03,\n",
              "       2.3404980e-02, 3.9841560e-02, 8.8107110e-02, 1.8195001e-01,\n",
              "       1.0287845e-01, 5.6256340e-02, 1.2663250e-02, 5.5696200e-03,\n",
              "       4.5675654e-01, 3.7274280e-02])"
            ]
          },
          "metadata": {},
          "execution_count": 71
        }
      ]
    },
    {
      "cell_type": "code",
      "source": [
        "np_M5[-7]"
      ],
      "metadata": {
        "colab": {
          "base_uri": "https://localhost:8080/"
        },
        "id": "2qj8LSJg69yg",
        "outputId": "4a407df6-fe64-4ecf-e363-4cc0c518920e"
      },
      "execution_count": null,
      "outputs": [
        {
          "output_type": "execute_result",
          "data": {
            "text/plain": [
              "array([0.00000000e+00, 0.00000000e+00, 0.00000000e+00, 0.00000000e+00,\n",
              "       0.00000000e+00, 0.00000000e+00, 5.20000000e-08, 5.31520000e-06,\n",
              "       1.45954400e-04, 1.38303230e-03, 3.27066600e-03, 8.10394640e-03,\n",
              "       2.40024228e-02, 3.80349635e-02, 7.13455141e-02, 1.28584705e-01,\n",
              "       8.75303632e-02, 5.23556443e-02, 1.41444013e-02, 6.51960890e-03,\n",
              "       5.31184049e-01, 4.65612613e-02])"
            ]
          },
          "metadata": {},
          "execution_count": 72
        }
      ]
    },
    {
      "cell_type": "code",
      "source": [
        "np_M[-7][-1]+np_M[-7][-2]+(np_M2[-7][-1]+np_M2[-7][-2])+np_M3[-7][-1]+np_M3[-7][-2]+np_M4[-7][-1]+np_M4[-7][-2]+np_M5[-7][-1]+np_M5[-7][-2]"
      ],
      "metadata": {
        "colab": {
          "base_uri": "https://localhost:8080/"
        },
        "id": "I3KTtHk37IvX",
        "outputId": "b592d2d9-f4c2-425a-e504-655918cc9a93"
      },
      "execution_count": null,
      "outputs": [
        {
          "output_type": "execute_result",
          "data": {
            "text/plain": [
              "1.8990251305999999"
            ]
          },
          "metadata": {},
          "execution_count": 74
        }
      ]
    },
    {
      "cell_type": "code",
      "source": [
        "default1=np_M[-7][-1]"
      ],
      "metadata": {
        "id": "g1E9yzgn7uqo"
      },
      "execution_count": null,
      "outputs": []
    },
    {
      "cell_type": "code",
      "source": [
        "print(default1)"
      ],
      "metadata": {
        "colab": {
          "base_uri": "https://localhost:8080/"
        },
        "id": "QEPfm78V8RS7",
        "outputId": "732171d1-e95d-4052-a209-20636f397c5f"
      },
      "execution_count": null,
      "outputs": [
        {
          "output_type": "stream",
          "name": "stdout",
          "text": [
            "0.01\n"
          ]
        }
      ]
    },
    {
      "cell_type": "code",
      "source": [
        "default2=(1-default1)*(np_M2[-7][-1])"
      ],
      "metadata": {
        "id": "hcUF1LcS8H1i"
      },
      "execution_count": null,
      "outputs": []
    },
    {
      "cell_type": "code",
      "source": [
        "default2"
      ],
      "metadata": {
        "colab": {
          "base_uri": "https://localhost:8080/"
        },
        "id": "rF7GO3Mc8U7N",
        "outputId": "cc2521f5-7757-4fb5-d290-344d808aa03e"
      },
      "execution_count": null,
      "outputs": [
        {
          "output_type": "execute_result",
          "data": {
            "text/plain": [
              "0.018711"
            ]
          },
          "metadata": {},
          "execution_count": 93
        }
      ]
    },
    {
      "cell_type": "code",
      "source": [
        "default3=(1-default1-default2)*(np_M3[-7][-1])"
      ],
      "metadata": {
        "id": "Dh61ZUPs8Vph"
      },
      "execution_count": null,
      "outputs": []
    },
    {
      "cell_type": "code",
      "source": [
        "default3"
      ],
      "metadata": {
        "colab": {
          "base_uri": "https://localhost:8080/"
        },
        "id": "5FKbdtzr8gQ8",
        "outputId": "81379a26-f528-481e-831e-0ca578e865c2"
      },
      "execution_count": null,
      "outputs": [
        {
          "output_type": "execute_result",
          "data": {
            "text/plain": [
              "0.02714752755"
            ]
          },
          "metadata": {},
          "execution_count": 92
        }
      ]
    },
    {
      "cell_type": "code",
      "source": [
        "default4=(1-default1-default2-default3)*(np_M4[-7][-1])"
      ],
      "metadata": {
        "id": "ewuL3od88hLA"
      },
      "execution_count": null,
      "outputs": []
    },
    {
      "cell_type": "code",
      "source": [
        "default4"
      ],
      "metadata": {
        "colab": {
          "base_uri": "https://localhost:8080/"
        },
        "id": "9TOKXtfD8rtf",
        "outputId": "32c9f09f-234a-49a3-dbaa-e6c0ed2e7e0e"
      },
      "execution_count": null,
      "outputs": [
        {
          "output_type": "execute_result",
          "data": {
            "text/plain": [
              "0.03519219360371358"
            ]
          },
          "metadata": {},
          "execution_count": 99
        }
      ]
    },
    {
      "cell_type": "code",
      "source": [
        "default5=(1-default1-default2-default3-default4)*(np_M5[-7][-1])"
      ],
      "metadata": {
        "id": "OBrKp58f8ssL"
      },
      "execution_count": null,
      "outputs": []
    },
    {
      "cell_type": "code",
      "source": [
        "default5"
      ],
      "metadata": {
        "colab": {
          "base_uri": "https://localhost:8080/"
        },
        "id": "Jq16TIbG85_3",
        "outputId": "cd69e2a8-f305-41cf-a6f0-f7a563a391f8"
      },
      "execution_count": null,
      "outputs": [
        {
          "output_type": "execute_result",
          "data": {
            "text/plain": [
              "0.0423218248808085"
            ]
          },
          "metadata": {},
          "execution_count": 98
        }
      ]
    },
    {
      "cell_type": "code",
      "source": [
        "default1+default2+default3+default4+default5"
      ],
      "metadata": {
        "colab": {
          "base_uri": "https://localhost:8080/"
        },
        "id": "x9lovUpY86-7",
        "outputId": "ee337021-abb1-4e55-d0be-0d064483c340"
      },
      "execution_count": null,
      "outputs": [
        {
          "output_type": "execute_result",
          "data": {
            "text/plain": [
              "0.1333725460345221"
            ]
          },
          "metadata": {},
          "execution_count": 100
        }
      ]
    },
    {
      "cell_type": "code",
      "source": [],
      "metadata": {
        "id": "BV26mC4J8_cS"
      },
      "execution_count": null,
      "outputs": []
    }
  ]
}