{
  "nbformat": 4,
  "nbformat_minor": 0,
  "metadata": {
    "colab": {
      "provenance": []
    },
    "kernelspec": {
      "name": "python3",
      "display_name": "Python 3"
    },
    "language_info": {
      "name": "python"
    }
  },
  "cells": [
    {
      "cell_type": "code",
      "execution_count": null,
      "metadata": {
        "colab": {
          "base_uri": "https://localhost:8080/"
        },
        "id": "M97Q_BMhEUKj",
        "outputId": "f2f48e01-bf76-453b-80f1-6425b755703c"
      },
      "outputs": [
        {
          "output_type": "stream",
          "name": "stdout",
          "text": [
            "1.4508987979158225\n"
          ]
        }
      ],
      "source": [
        "import math\n",
        "from scipy.stats import norm\n",
        "\n",
        "def probability_gbm_falls_below_threshold(mu, sigma, B, A, T):\n",
        "    # Calculate the mean and standard deviation of the log return\n",
        "    mean_log_return = (mu - 0.5 * sigma ** 2) * T\n",
        "    std_log_return = sigma * math.sqrt(T)\n",
        "    \n",
        "    # Calculate the probability using the reflection principle\n",
        "    d1 = (math.log(A / B) + mean_log_return) / std_log_return\n",
        "    d2 = (math.log(A / (2 * A - B)) + mean_log_return) / std_log_return\n",
        "    probability = 2 * norm.cdf(-d2) - norm.cdf(-d1)\n",
        "    \n",
        "    return probability\n",
        "\n",
        "# Example usage\n",
        "mu = 0.05\n",
        "sigma = 0.2\n",
        "B = 80\n",
        "A = 100\n",
        "T = 1\n",
        "\n",
        "probability = probability_gbm_falls_below_threshold(mu, sigma, B, A, T)\n",
        "print(probability)"
      ]
    },
    {
      "cell_type": "code",
      "source": [
        "import math\n",
        "from scipy.stats import norm\n",
        "\n",
        "def probability_gbm_falls_below_threshold(mu, sigma, B, A, T):\n",
        "    # Calculate d1 and d2\n",
        "    d1 = (math.log(A / B) + (mu + 0.5 * sigma ** 2) * T) / (sigma * math.sqrt(T))\n",
        "    d2 = (math.log(A / B) + (mu - 0.5 * sigma ** 2) * T) / (sigma * math.sqrt(T))\n",
        "    \n",
        "    # Calculate the probability using the corrected formula\n",
        "    probability = norm.cdf(-d1) - norm.cdf(-d2)\n",
        "    \n",
        "    return probability\n",
        "\n",
        "# Example usage\n",
        "mu = 0.05\n",
        "sigma = 0.2\n",
        "B = 80\n",
        "A = 100\n",
        "T = 1\n",
        "\n",
        "probability = probability_gbm_falls_below_threshold(mu, sigma, B, A, T)\n",
        "print(probability)"
      ],
      "metadata": {
        "colab": {
          "base_uri": "https://localhost:8080/"
        },
        "id": "IRe0_VKBEt5i",
        "outputId": "3774d010-5f0e-40d9-b12c-71fe89f23611"
      },
      "execution_count": null,
      "outputs": [
        {
          "output_type": "stream",
          "name": "stdout",
          "text": [
            "-0.03144447706759487\n"
          ]
        }
      ]
    },
    {
      "cell_type": "code",
      "source": [
        "import math\n",
        "from scipy.stats import norm\n",
        "\n",
        "def probability_gbm_falls_below_threshold(mu, sigma, B, A, T):\n",
        "    # Calculate d1 and d2\n",
        "    d1 = ((math.log(B/ A) + (mu + 0.5 * sigma ** 2) * T) )/ (sigma * math.sqrt(T))\n",
        "    d2 = ((math.log(A / B) - (mu - 0.5 * sigma ** 2) * T) )/ (sigma * math.sqrt(T))\n",
        "    \n",
        "    # Calculate the probability using the corrected formula\n",
        "    probability =norm.cdf(-d1)/(math.sqrt(T)) #math.exp(2 * mu * T) * norm.cdf(d2)\n",
        "    \n",
        "    return probability\n",
        "\n",
        "# Example usage\n",
        "mu =0.001264583\n",
        "sigma = 0.040415818\n",
        "B = 9425\n",
        "A = 12324\n",
        "T = 5\n",
        "\n",
        "probability = probability_gbm_falls_below_threshold(mu, sigma, B, A, T)\n",
        "print(probability)"
      ],
      "metadata": {
        "colab": {
          "base_uri": "https://localhost:8080/"
        },
        "id": "8OMqeKiZE7Gf",
        "outputId": "c16906b5-faae-4410-80c0-7f4d2b4c08a3"
      },
      "execution_count": null,
      "outputs": [
        {
          "output_type": "stream",
          "name": "stdout",
          "text": [
            "0.44624327996359503\n"
          ]
        }
      ]
    },
    {
      "cell_type": "code",
      "source": [
        "norm.cdf(-0.505422965)"
      ],
      "metadata": {
        "colab": {
          "base_uri": "https://localhost:8080/"
        },
        "id": "MpwKQ6ziIy4d",
        "outputId": "6de71eaa-8189-474a-c62c-b427c7e1ad94"
      },
      "execution_count": null,
      "outputs": [
        {
          "output_type": "execute_result",
          "data": {
            "text/plain": [
              "0.30663089621489203"
            ]
          },
          "metadata": {},
          "execution_count": 14
        }
      ]
    }
  ]
}