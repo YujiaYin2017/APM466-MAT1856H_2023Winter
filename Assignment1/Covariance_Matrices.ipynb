{
  "nbformat": 4,
  "nbformat_minor": 0,
  "metadata": {
    "colab": {
      "provenance": []
    },
    "kernelspec": {
      "name": "python3",
      "display_name": "Python 3"
    },
    "language_info": {
      "name": "python"
    }
  },
  "cells": [
    {
      "cell_type": "code",
      "execution_count": 1,
      "metadata": {
        "id": "VhBbS78Y7pK4"
      },
      "outputs": [],
      "source": [
        "import numpy as np"
      ]
    },
    {
      "cell_type": "code",
      "source": [
        "import math"
      ],
      "metadata": {
        "id": "wwPc_4xw8y8X"
      },
      "execution_count": 9,
      "outputs": []
    },
    {
      "cell_type": "code",
      "source": [
        "YTM1=[0.0223282,0.0228474,0.0233914,0.0239619,0.024561,0.0265524,0.02729,0.0280697,0.0288953,0.0297709,0.032748]"
      ],
      "metadata": {
        "id": "OMgFyT2L73oH"
      },
      "execution_count": 2,
      "outputs": []
    },
    {
      "cell_type": "code",
      "source": [
        "YTM2=[0.0242584,0.0247507,0.0239718,0.0241658,0.0246009,0.0245412,0.0242183,0.0238238,0.023771,0.0245224,0.0249307]"
      ],
      "metadata": {
        "id": "o0z7-j5v8TIG"
      },
      "execution_count": 3,
      "outputs": []
    },
    {
      "cell_type": "code",
      "source": [
        "YTM3=[0.040661100000000006, 0.0407498, 0.0390316, 0.039142899999999994, 0.04061985, 0.0408632, 0.04088775, 0.040184, 0.040209949999999994, 0.0417636, 0.04248565]"
      ],
      "metadata": {
        "id": "SJHt7nIi8UtC"
      },
      "execution_count": 4,
      "outputs": []
    },
    {
      "cell_type": "code",
      "source": [
        "YTM4=[0.03025,0.0300886,0.0292456,0.0293287,0.0300135,0.0302972,0.0304822,0.0299022,0.0297717,0.0306787,0.0311941]"
      ],
      "metadata": {
        "id": "S-bCw3wl8ZA1"
      },
      "execution_count": 5,
      "outputs": []
    },
    {
      "cell_type": "code",
      "source": [
        "YTM5=[0.0272169,0.0270477,0.0258531,0.025878,0.0270731,0.0271677,0.0271243,0.0267353,0.0269337,0.0278443,0.0282022]"
      ],
      "metadata": {
        "id": "zyoJN6EO8aul"
      },
      "execution_count": 6,
      "outputs": []
    },
    {
      "cell_type": "code",
      "source": [
        "YTM6=[0.0265351,0.02555,0.0252014,0.0252049,0.0263068,0.0265233,0.0264664,0.0261837,0.0263527,0.0272187,0.0275685]"
      ],
      "metadata": {
        "id": "ym8d5BEV8cgx"
      },
      "execution_count": 7,
      "outputs": []
    },
    {
      "cell_type": "code",
      "source": [
        "YTM7=[0.0256394,0.0254301,0.02436,0.0243551,0.0254364,0.0255501,0.0253731,0.0250623,0.0252341,0.025837,0.0260733]"
      ],
      "metadata": {
        "id": "ehIWbppn8jnf"
      },
      "execution_count": 8,
      "outputs": []
    },
    {
      "cell_type": "code",
      "source": [
        "LogR1=[math.log(YTM1[i+1])-math.log(YTM1[i]) for i in range(10)]"
      ],
      "metadata": {
        "id": "D7O30HeA8llX"
      },
      "execution_count": 11,
      "outputs": []
    },
    {
      "cell_type": "code",
      "source": [
        "LogR2=[math.log(YTM2[i+1])-math.log(YTM2[i]) for i in range(10)]"
      ],
      "metadata": {
        "id": "SPKpZYfs9F_1"
      },
      "execution_count": 13,
      "outputs": []
    },
    {
      "cell_type": "code",
      "source": [
        "LogR3=[math.log(YTM3[i+1])-math.log(YTM3[i]) for i in range(10)]"
      ],
      "metadata": {
        "id": "dz13M0R89OJH"
      },
      "execution_count": 15,
      "outputs": []
    },
    {
      "cell_type": "code",
      "source": [
        "LogR4=[math.log(YTM4[i+1])-math.log(YTM4[i]) for i in range(10)]"
      ],
      "metadata": {
        "id": "DGrWP62_9Uh3"
      },
      "execution_count": 16,
      "outputs": []
    },
    {
      "cell_type": "code",
      "source": [
        "LogR5=[math.log(YTM5[i+1])-math.log(YTM5[i]) for i in range(10)]"
      ],
      "metadata": {
        "id": "BzSv6MlX9Xa-"
      },
      "execution_count": 17,
      "outputs": []
    },
    {
      "cell_type": "code",
      "source": [
        "LogR6=[math.log(YTM6[i+1])-math.log(YTM6[i]) for i in range(10)]"
      ],
      "metadata": {
        "id": "lb9srlJ09ada"
      },
      "execution_count": 18,
      "outputs": []
    },
    {
      "cell_type": "code",
      "source": [
        "LogR7=[math.log(YTM7[i+1])-math.log(YTM7[i]) for i in range(10)]"
      ],
      "metadata": {
        "id": "Fp8lBMjm9eiF"
      },
      "execution_count": 19,
      "outputs": []
    },
    {
      "cell_type": "code",
      "source": [
        "clogr=np.cov([LogR1,LogR2,LogR3,LogR4,LogR5,LogR6,LogR7])"
      ],
      "metadata": {
        "id": "CWWHvVAV9i1J"
      },
      "execution_count": 25,
      "outputs": []
    },
    {
      "cell_type": "code",
      "source": [
        "clogr"
      ],
      "metadata": {
        "colab": {
          "base_uri": "https://localhost:8080/"
        },
        "id": "m2s6sByo93mh",
        "outputId": "b1c05f8a-a3f3-4ccb-8ee1-41f4802b7588"
      },
      "execution_count": 26,
      "outputs": [
        {
          "output_type": "execute_result",
          "data": {
            "text/plain": [
              "array([[6.71341306e-04, 8.00999063e-05, 1.23969997e-04, 1.53968865e-04,\n",
              "        9.05809656e-05, 1.16701300e-04, 8.95307663e-05],\n",
              "       [8.00999063e-05, 3.81322540e-04, 4.12138468e-04, 2.86964160e-04,\n",
              "        3.90497285e-04, 1.91908529e-04, 3.43477011e-04],\n",
              "       [1.23969997e-04, 4.12138468e-04, 5.68526051e-04, 4.17158446e-04,\n",
              "        5.78451791e-04, 4.01091087e-04, 5.17876045e-04],\n",
              "       [1.53968865e-04, 2.86964160e-04, 4.17158446e-04, 3.30491526e-04,\n",
              "        4.14595619e-04, 3.20960416e-04, 3.64756993e-04],\n",
              "       [9.05809656e-05, 3.90497285e-04, 5.78451791e-04, 4.14595619e-04,\n",
              "        6.15425748e-04, 4.58383511e-04, 5.61220275e-04],\n",
              "       [1.16701300e-04, 1.91908529e-04, 4.01091087e-04, 3.20960416e-04,\n",
              "        4.58383511e-04, 5.26877150e-04, 4.22532003e-04],\n",
              "       [8.95307663e-05, 3.43477011e-04, 5.17876045e-04, 3.64756993e-04,\n",
              "        5.61220275e-04, 4.22532003e-04, 5.20166175e-04]])"
            ]
          },
          "metadata": {},
          "execution_count": 26
        }
      ]
    },
    {
      "cell_type": "code",
      "source": [
        "clogr_eigenvalues,clogr_eigenvectors=np.linalg.eig(clogr)"
      ],
      "metadata": {
        "id": "2miDJlCx9_jh"
      },
      "execution_count": 27,
      "outputs": []
    },
    {
      "cell_type": "code",
      "source": [
        "clogr_eigenvalues"
      ],
      "metadata": {
        "colab": {
          "base_uri": "https://localhost:8080/"
        },
        "id": "sNIHSKsF-wHk",
        "outputId": "a0acef9a-4a6b-424a-a8ad-a2d84ccd57db"
      },
      "execution_count": 28,
      "outputs": [
        {
          "output_type": "execute_result",
          "data": {
            "text/plain": [
              "array([2.61287321e-03, 6.46846219e-04, 2.73355309e-04, 5.14406130e-05,\n",
              "       2.79635457e-05, 1.30111940e-06, 3.70477361e-07])"
            ]
          },
          "metadata": {},
          "execution_count": 28
        }
      ]
    },
    {
      "cell_type": "code",
      "source": [
        "clogr_eigenvectors"
      ],
      "metadata": {
        "colab": {
          "base_uri": "https://localhost:8080/"
        },
        "id": "438E-cSf-yJk",
        "outputId": "d1521281-91e9-48c3-e060-3a06e91ade03"
      },
      "execution_count": 29,
      "outputs": [
        {
          "output_type": "execute_result",
          "data": {
            "text/plain": [
              "array([[-0.13404029, -0.98174428, -0.02837439, -0.11314385, -0.05022794,\n",
              "        -0.04538579, -0.00469264],\n",
              "       [-0.31595755,  0.05416954, -0.6119569 ,  0.30807249, -0.63612598,\n",
              "         0.09246733, -0.12095499],\n",
              "       [-0.4594921 ,  0.05931507, -0.20575222,  0.08819205,  0.28182332,\n",
              "        -0.40181938,  0.70310292],\n",
              "       [-0.34115042, -0.05960404, -0.05780229,  0.50941872,  0.58435781,\n",
              "         0.44512785, -0.27857201],\n",
              "       [-0.47866888,  0.12413184,  0.00895969, -0.33870695,  0.11925623,\n",
              "        -0.50130799, -0.61248099],\n",
              "       [-0.37048869,  0.0088592 ,  0.75850356,  0.36000891, -0.38932116,\n",
              "        -0.04492458,  0.06431486],\n",
              "       [-0.4339374 ,  0.10337175,  0.0601718 , -0.61698924, -0.07829075,\n",
              "         0.61356694,  0.18472255]])"
            ]
          },
          "metadata": {},
          "execution_count": 29
        }
      ]
    },
    {
      "cell_type": "code",
      "source": [
        "FR21=[0.014016154371567658,\n",
        " 0.014509477535909868,\n",
        " 0.013878042626364736,\n",
        " 0.01411064013971365,\n",
        " 0.01482015901148601,\n",
        " 0.014934835901642365,\n",
        " 0.014905335227181054,\n",
        " 0.014475740784719976,\n",
        " 0.014546343049587091,\n",
        " 0.015417102625447045,\n",
        " 0.0158347919192833]"
      ],
      "metadata": {
        "id": "EhPAMVMe-3Ry"
      },
      "execution_count": 30,
      "outputs": []
    },
    {
      "cell_type": "code",
      "source": [
        "dailyrFR21=[math.log(FR21[i+1])-math.log(FR21[i]) for i in range(10)]"
      ],
      "metadata": {
        "id": "ZNXa7QRaCNoO"
      },
      "execution_count": 41,
      "outputs": []
    },
    {
      "cell_type": "code",
      "source": [
        "FR31=[0.037044289158912086,\n",
        " 0.03670168935894781,\n",
        " 0.03501143821871434,\n",
        " 0.035122657472011674,\n",
        " 0.03680225623440437,\n",
        " 0.03708740511654154,\n",
        " 0.037168348831096425,\n",
        " 0.03648655553753295,\n",
        " 0.03656751080530944,\n",
        " 0.03824398924946657,\n",
        " 0.03888416886269016]"
      ],
      "metadata": {
        "id": "5yhAZ5Eq_tAe"
      },
      "execution_count": 31,
      "outputs": []
    },
    {
      "cell_type": "code",
      "source": [
        "dailyrFR31=[math.log(FR31[i+1])-math.log(FR31[i]) for i in range(10)]"
      ],
      "metadata": {
        "id": "pCLIs6Y1CoVd"
      },
      "execution_count": 42,
      "outputs": []
    },
    {
      "cell_type": "code",
      "source": [
        "FR41=[0.024037314037627378,\n",
        " 0.023840799265995798,\n",
        " 0.02305970619840961,\n",
        " 0.02314826773839705,\n",
        " 0.023954586076502724,\n",
        " 0.02430712849798196,\n",
        " 0.024546537862667264,\n",
        " 0.02399868270856358,\n",
        " 0.02391400344485177,\n",
        " 0.02489406127900722,\n",
        " 0.025390864114113634]"
      ],
      "metadata": {
        "id": "a8jL6FVq_xfl"
      },
      "execution_count": 32,
      "outputs": []
    },
    {
      "cell_type": "code",
      "source": [
        "dailyrFR41=[math.log(FR41[i+1])-math.log(FR41[i]) for i in range(10)]"
      ],
      "metadata": {
        "id": "eeBpk0JaCtIo"
      },
      "execution_count": 43,
      "outputs": []
    },
    {
      "cell_type": "code",
      "source": [
        "FR51=[0.005882951320655476,\n",
        " 0.005712951134175729,\n",
        " 0.004612010455562273,\n",
        " 0.00463817274274313,\n",
        " 0.005810107242313966,\n",
        " 0.005925379301161868,\n",
        " 0.005903260340754441,\n",
        " 0.005553615720044503,\n",
        " 0.00576075824813062,\n",
        " 0.006641752599560965,\n",
        " 0.006972848983761079]"
      ],
      "metadata": {
        "id": "SInDjLZf_2C4"
      },
      "execution_count": 33,
      "outputs": []
    },
    {
      "cell_type": "code",
      "source": [
        "dailyrFR51=[math.log(FR51[i+1])-math.log(FR51[i]) for i in range(10)]"
      ],
      "metadata": {
        "id": "5v6GU4l7Cw4U"
      },
      "execution_count": 44,
      "outputs": []
    },
    {
      "cell_type": "code",
      "source": [
        "FR61=[0.005672250411673054,\n",
        " 0.005426800660354019,\n",
        " 0.004437208593113673,\n",
        " 0.004443009312125842,\n",
        " 0.005516908298790653,\n",
        " 0.005745451653476637,\n",
        " 0.005709762743476132,\n",
        " 0.005461523194319898,\n",
        " 0.005638452191272143,\n",
        " 0.0064707181112172605,\n",
        " 0.006793242977230736]"
      ],
      "metadata": {
        "id": "TlERLLQe_7Ln"
      },
      "execution_count": 34,
      "outputs": []
    },
    {
      "cell_type": "code",
      "source": [
        "dailyrFR61=[math.log(FR61[i+1])-math.log(FR61[i]) for i in range(10)]"
      ],
      "metadata": {
        "id": "cZ4JicnvC1sa"
      },
      "execution_count": 47,
      "outputs": []
    },
    {
      "cell_type": "code",
      "source": [
        "FR71=[0.004377054039911612,\n",
        " 0.004187650056019195,\n",
        " 0.003424020518990126,\n",
        " 0.0034284967072300446,\n",
        " 0.0042571826002866875,\n",
        " 0.004433540578394389,\n",
        " 0.004406000840836916,\n",
        " 0.004214444078945007,\n",
        " 0.004350973273652917,\n",
        " 0.004993200369212694,\n",
        " 0.005242080207953777]"
      ],
      "metadata": {
        "id": "Bug5aaL-__IK"
      },
      "execution_count": 35,
      "outputs": []
    },
    {
      "cell_type": "code",
      "source": [
        "dailyrFR71=[math.log(FR71[i+1])-math.log(FR71[i]) for i in range(10)]"
      ],
      "metadata": {
        "id": "DMK5SgQkC9EO"
      },
      "execution_count": 48,
      "outputs": []
    },
    {
      "cell_type": "code",
      "source": [
        "cFR=np.cov([dailyrFR21,dailyrFR31,dailyrFR41,dailyrFR51,dailyrFR61,dailyrFR71])"
      ],
      "metadata": {
        "id": "ZxZvfdfFADEy"
      },
      "execution_count": 49,
      "outputs": []
    },
    {
      "cell_type": "code",
      "source": [
        "cFR"
      ],
      "metadata": {
        "colab": {
          "base_uri": "https://localhost:8080/"
        },
        "id": "-69-wDpbAXTA",
        "outputId": "3c69aaae-052a-450c-d9fe-fcece940e84d"
      },
      "execution_count": 50,
      "outputs": [
        {
          "output_type": "execute_result",
          "data": {
            "text/plain": [
              "array([[0.00104532, 0.00079852, 0.00065254, 0.00325328, 0.00299495,\n",
              "        0.00299495],\n",
              "       [0.00079852, 0.00077371, 0.00062951, 0.00318051, 0.00303533,\n",
              "        0.00303533],\n",
              "       [0.00065254, 0.00062951, 0.00054435, 0.00248355, 0.00237918,\n",
              "        0.00237918],\n",
              "       [0.00325328, 0.00318051, 0.00248355, 0.01362964, 0.01297419,\n",
              "        0.01297419],\n",
              "       [0.00299495, 0.00303533, 0.00237918, 0.01297419, 0.01245594,\n",
              "        0.01245594],\n",
              "       [0.00299495, 0.00303533, 0.00237918, 0.01297419, 0.01245594,\n",
              "        0.01245594]])"
            ]
          },
          "metadata": {},
          "execution_count": 50
        }
      ]
    },
    {
      "cell_type": "code",
      "source": [
        "cFR_eigenvalues,cFR_eigenvectors=np.linalg.eig(cFR)"
      ],
      "metadata": {
        "id": "AVXJFNCVAbHn"
      },
      "execution_count": 51,
      "outputs": []
    },
    {
      "cell_type": "code",
      "source": [
        "cFR_eigenvalues"
      ],
      "metadata": {
        "colab": {
          "base_uri": "https://localhost:8080/"
        },
        "id": "Nz_HN1b2AiwC",
        "outputId": "c7ea6ff4-91ee-4e69-f990-b5b62999874a"
      },
      "execution_count": 52,
      "outputs": [
        {
          "output_type": "execute_result",
          "data": {
            "text/plain": [
              "array([4.04173590e-02, 3.60018669e-04, 9.97350289e-05, 2.46820024e-05,\n",
              "       3.11836954e-06, 8.65771732e-19])"
            ]
          },
          "metadata": {},
          "execution_count": 52
        }
      ]
    },
    {
      "cell_type": "code",
      "source": [
        "cFR_eigenvectors"
      ],
      "metadata": {
        "colab": {
          "base_uri": "https://localhost:8080/"
        },
        "id": "x38BsDR2Ak0x",
        "outputId": "f1235d44-6943-418b-b005-4920f423ffe8"
      },
      "execution_count": 53,
      "outputs": [
        {
          "output_type": "execute_result",
          "data": {
            "text/plain": [
              "array([[ 1.36814473e-01, -8.86025237e-01,  1.33657407e-01,\n",
              "        -4.20457003e-01,  3.99084738e-02, -4.36171349e-14],\n",
              "       [ 1.35899194e-01, -1.69735005e-01, -3.67410910e-01,\n",
              "         2.01431755e-01, -8.81564466e-01, -1.52820968e-13],\n",
              "       [ 1.06688536e-01, -2.39431819e-01, -7.76967928e-01,\n",
              "         3.36246141e-01,  4.63194703e-01,  1.27850617e-13],\n",
              "       [ 5.79872216e-01, -1.48865114e-01,  4.55171855e-01,\n",
              "         6.54475704e-01,  7.78943282e-02,  9.37792723e-14],\n",
              "       [ 5.54607510e-01,  2.30933854e-01, -1.34692877e-01,\n",
              "        -3.47304795e-01,  1.78121659e-02, -7.07106781e-01],\n",
              "       [ 5.54607510e-01,  2.30933854e-01, -1.34692877e-01,\n",
              "        -3.47304795e-01,  1.78121659e-02,  7.07106781e-01]])"
            ]
          },
          "metadata": {},
          "execution_count": 53
        }
      ]
    },
    {
      "cell_type": "code",
      "source": [],
      "metadata": {
        "id": "RzUqeh9_Arn0"
      },
      "execution_count": null,
      "outputs": []
    }
  ]
}